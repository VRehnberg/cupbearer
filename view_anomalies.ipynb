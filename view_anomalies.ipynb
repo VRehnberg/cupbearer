{
 "cells": [
  {
   "cell_type": "code",
   "execution_count": 2,
   "id": "c4fa1104-b608-4931-87b4-700c8b245a0f",
   "metadata": {},
   "outputs": [],
   "source": [
    "import matplotlib.pyplot as plt\n",
    "\n",
    "from cupbearer import data"
   ]
  },
  {
   "cell_type": "markdown",
   "id": "e5eaa41d-c7ac-4942-bddf-ad44524741f0",
   "metadata": {},
   "source": [
    "# Backdoors"
   ]
  },
  {
   "cell_type": "code",
   "execution_count": null,
   "id": "4546f7cf-8c2c-458d-8f89-6aa690f5895e",
   "metadata": {},
   "outputs": [],
   "source": [
    "n_examples = 4\n",
    "datasets = [\n",
    "    data.MNIST(),\n",
    "    data.GTSRB(),\n",
    "    data.CIFAR10(),\n",
    "]\n",
    "backdoor = data.CornerPixelBackdoor()\n",
    "\n",
    "fig, axs in plt.subplots([len(datasets), n_examples])\n",
    "for dataset, ax_row in zip(datasets, axs):\n",
    "    plt.imshow()\n",
    "    "
   ]
  }
 ],
 "metadata": {
  "kernelspec": {
   "display_name": "Python 3 (ipykernel)",
   "language": "python",
   "name": "python3"
  },
  "language_info": {
   "codemirror_mode": {
    "name": "ipython",
    "version": 3
   },
   "file_extension": ".py",
   "mimetype": "text/x-python",
   "name": "python",
   "nbconvert_exporter": "python",
   "pygments_lexer": "ipython3",
   "version": "3.10.8"
  }
 },
 "nbformat": 4,
 "nbformat_minor": 5
}
